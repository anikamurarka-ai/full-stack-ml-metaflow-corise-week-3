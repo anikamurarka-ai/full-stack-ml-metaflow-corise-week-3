{
 "cells": [
  {
   "attachments": {},
   "cell_type": "markdown",
   "metadata": {},
   "source": [
    "# Welcome to Full Stack Machine Learning's Week 3 Project!\n",
    "\n",
    "Welcome to the taxi fare prediction project! In this project, you will be taking on the role of a Data Scientist tasked with developing a model that can predict the fare for a taxi ride in New York City. The [dataset](https://www.nyc.gov/site/tlc/about/tlc-trip-record-data.page) we will be using contains records of trips made by yellow and green taxis, as well as records of For-Hire Vehicle (FHV) trips.\n",
    "\n",
    "As a Data Scientist, your goal will be to use this data to build an accurate model that can predict taxi fares. You will learn how to preprocess the data and train a model. Additionally, you will be introduced to event-driven Machine Learning pipelines and learn how to trigger these pipelines in the cloud using Metaflow.\n",
    "\n",
    "By the end of this project, you will have gained valuable experience in building and evaluating Machine Learning models for real-world applications, as well as a deeper understanding of how to run pipelines in the cloud."
   ]
  },
  {
   "attachments": {},
   "cell_type": "markdown",
   "metadata": {},
   "source": [
    "## Task 0: Install new Metaflow version to use event-triggering features\n",
    "\n",
    "Run the next cell to update to the latest Metaflow release with event-triggering support. Note you only need to run it one time in the `full-stack-metaflow-corise` environment in your sandbox."
   ]
  },
  {
   "cell_type": "code",
   "execution_count": 1,
   "metadata": {},
   "outputs": [],
   "source": [
    "%%capture\n",
    "! pip install -U metaflow"
   ]
  },
  {
   "attachments": {},
   "cell_type": "markdown",
   "metadata": {},
   "source": [
    "## Task 1: EDA\n",
    "\n",
    "You can find the [original `.parquet` file here](https://d37ci6vzurychx.cloudfront.net/trip-data/yellow_tripdata_2023-01.parquet).\n",
    "\n",
    "Suggestion: This week is primarily about task 2-3, and 4 if you have time. Don't spend more than an hour on Task 1."
   ]
  },
  {
   "cell_type": "code",
   "execution_count": 2,
   "metadata": {},
   "outputs": [],
   "source": [
    "from metaflow import S3\n",
    "import pandas as pd\n",
    "import matplotlib.pyplot as plt\n",
    "import seaborn as sns\n",
    "\n",
    "# configuration\n",
    "YELLOW = '#FFBC00'\n",
    "GREEN = '#37795D'\n",
    "PURPLE = '#5460C0'\n",
    "BACKGROUND = '#F4EBE6'\n",
    "colors = [GREEN, PURPLE]\n",
    "custom_params = {\n",
    "    'axes.spines.right': False, 'axes.spines.top': False,\n",
    "    'axes.facecolor':BACKGROUND, 'figure.facecolor': BACKGROUND, \n",
    "    'figure.figsize':(8, 8)\n",
    "}\n",
    "sns_palette = sns.color_palette(colors, len(colors))\n",
    "sns.set_theme(style='ticks', rc=custom_params)"
   ]
  },
  {
   "cell_type": "code",
   "execution_count": 3,
   "metadata": {},
   "outputs": [],
   "source": [
    "# Open a context manager to download data from the cloud.\n",
    "s3 = S3(s3root='s3://outerbounds-datasets/taxi')\n",
    "\n",
    "# Use Metaflow S3 client to get the latest file.\n",
    "# This file is being updated every hour, simulating the changing, drifting, and sometimes broken nature of production data streams.\n",
    "obj = s3.get('latest.parquet')\n",
    "# The goal is to write a flow that builds and cross-validates a model to predicts the total fare of each taxi rid (row) in the dataset.\n",
    "# Since the data is changing, Task 2 and 3 asks you to deploy a flow to production via Argo workflows, so your workflow can run automatically when this file changes in S3.\n",
    "\n",
    "# Load the contents of the parquet file in memory.\n",
    "df = pd.read_parquet(obj.path)\n",
    "\n",
    "s3.close()"
   ]
  },
  {
   "cell_type": "code",
   "execution_count": 4,
   "metadata": {},
   "outputs": [
    {
     "name": "stdout",
     "output_type": "stream",
     "text": [
      "<class 'pandas.core.frame.DataFrame'>\n",
      "Int64Index: 552112 entries, 0 to 3009057\n",
      "Data columns (total 20 columns):\n",
      " #   Column                 Non-Null Count   Dtype         \n",
      "---  ------                 --------------   -----         \n",
      " 0   VendorID               552112 non-null  int64         \n",
      " 1   tpep_pickup_datetime   552112 non-null  datetime64[ns]\n",
      " 2   tpep_dropoff_datetime  552112 non-null  datetime64[ns]\n",
      " 3   passenger_count        538095 non-null  float64       \n",
      " 4   trip_distance          548596 non-null  float64       \n",
      " 5   RatecodeID             538095 non-null  float64       \n",
      " 6   store_and_fwd_flag     538095 non-null  object        \n",
      " 7   PULocationID           552112 non-null  int64         \n",
      " 8   DOLocationID           552112 non-null  int64         \n",
      " 9   payment_type           552112 non-null  int64         \n",
      " 10  fare_amount            552112 non-null  float64       \n",
      " 11  extra                  552112 non-null  float64       \n",
      " 12  mta_tax                552112 non-null  float64       \n",
      " 13  tip_amount             552112 non-null  float64       \n",
      " 14  tolls_amount           552112 non-null  float64       \n",
      " 15  improvement_surcharge  552112 non-null  float64       \n",
      " 16  total_amount           552112 non-null  float64       \n",
      " 17  congestion_surcharge   538095 non-null  float64       \n",
      " 18  airport_fee            538095 non-null  float64       \n",
      " 19  hour                   552112 non-null  int64         \n",
      "dtypes: datetime64[ns](2), float64(12), int64(5), object(1)\n",
      "memory usage: 88.5+ MB\n"
     ]
    }
   ],
   "source": [
    "df.info()"
   ]
  },
  {
   "cell_type": "code",
   "execution_count": 5,
   "metadata": {},
   "outputs": [
    {
     "data": {
      "text/html": [
       "<div>\n",
       "<style scoped>\n",
       "    .dataframe tbody tr th:only-of-type {\n",
       "        vertical-align: middle;\n",
       "    }\n",
       "\n",
       "    .dataframe tbody tr th {\n",
       "        vertical-align: top;\n",
       "    }\n",
       "\n",
       "    .dataframe thead th {\n",
       "        text-align: right;\n",
       "    }\n",
       "</style>\n",
       "<table border=\"1\" class=\"dataframe\">\n",
       "  <thead>\n",
       "    <tr style=\"text-align: right;\">\n",
       "      <th></th>\n",
       "      <th>VendorID</th>\n",
       "      <th>passenger_count</th>\n",
       "      <th>trip_distance</th>\n",
       "      <th>RatecodeID</th>\n",
       "      <th>PULocationID</th>\n",
       "      <th>DOLocationID</th>\n",
       "      <th>payment_type</th>\n",
       "      <th>fare_amount</th>\n",
       "      <th>extra</th>\n",
       "      <th>mta_tax</th>\n",
       "      <th>tip_amount</th>\n",
       "      <th>tolls_amount</th>\n",
       "      <th>improvement_surcharge</th>\n",
       "      <th>total_amount</th>\n",
       "      <th>congestion_surcharge</th>\n",
       "      <th>airport_fee</th>\n",
       "      <th>hour</th>\n",
       "    </tr>\n",
       "  </thead>\n",
       "  <tbody>\n",
       "    <tr>\n",
       "      <th>count</th>\n",
       "      <td>552112.000000</td>\n",
       "      <td>538095.000000</td>\n",
       "      <td>548596.000000</td>\n",
       "      <td>538095.000000</td>\n",
       "      <td>552112.000000</td>\n",
       "      <td>552112.000000</td>\n",
       "      <td>552112.000000</td>\n",
       "      <td>552112.000000</td>\n",
       "      <td>552112.000000</td>\n",
       "      <td>552112.000000</td>\n",
       "      <td>552112.000000</td>\n",
       "      <td>552112.000000</td>\n",
       "      <td>552112.000000</td>\n",
       "      <td>552112.000000</td>\n",
       "      <td>538095.000000</td>\n",
       "      <td>538095.000000</td>\n",
       "      <td>552112.000000</td>\n",
       "    </tr>\n",
       "    <tr>\n",
       "      <th>mean</th>\n",
       "      <td>1.734070</td>\n",
       "      <td>1.411046</td>\n",
       "      <td>3.916389</td>\n",
       "      <td>1.564367</td>\n",
       "      <td>165.040202</td>\n",
       "      <td>162.864739</td>\n",
       "      <td>1.225943</td>\n",
       "      <td>19.474130</td>\n",
       "      <td>1.573554</td>\n",
       "      <td>0.486728</td>\n",
       "      <td>3.362375</td>\n",
       "      <td>0.600516</td>\n",
       "      <td>0.980102</td>\n",
       "      <td>28.229555</td>\n",
       "      <td>2.228291</td>\n",
       "      <td>0.130955</td>\n",
       "      <td>82.905617</td>\n",
       "    </tr>\n",
       "    <tr>\n",
       "      <th>std</th>\n",
       "      <td>0.441827</td>\n",
       "      <td>0.935811</td>\n",
       "      <td>87.337457</td>\n",
       "      <td>6.825743</td>\n",
       "      <td>64.376412</td>\n",
       "      <td>70.796425</td>\n",
       "      <td>0.556279</td>\n",
       "      <td>19.256922</td>\n",
       "      <td>1.838636</td>\n",
       "      <td>0.126350</td>\n",
       "      <td>4.026210</td>\n",
       "      <td>2.172664</td>\n",
       "      <td>0.191263</td>\n",
       "      <td>23.741080</td>\n",
       "      <td>0.832104</td>\n",
       "      <td>0.388780</td>\n",
       "      <td>43.409300</td>\n",
       "    </tr>\n",
       "    <tr>\n",
       "      <th>min</th>\n",
       "      <td>1.000000</td>\n",
       "      <td>0.000000</td>\n",
       "      <td>0.000000</td>\n",
       "      <td>1.000000</td>\n",
       "      <td>1.000000</td>\n",
       "      <td>1.000000</td>\n",
       "      <td>0.000000</td>\n",
       "      <td>-497.900000</td>\n",
       "      <td>-7.500000</td>\n",
       "      <td>-0.500000</td>\n",
       "      <td>-33.930000</td>\n",
       "      <td>-34.050000</td>\n",
       "      <td>-1.000000</td>\n",
       "      <td>-400.770000</td>\n",
       "      <td>-2.500000</td>\n",
       "      <td>-1.250000</td>\n",
       "      <td>0.000000</td>\n",
       "    </tr>\n",
       "    <tr>\n",
       "      <th>25%</th>\n",
       "      <td>1.000000</td>\n",
       "      <td>1.000000</td>\n",
       "      <td>1.100000</td>\n",
       "      <td>1.000000</td>\n",
       "      <td>132.000000</td>\n",
       "      <td>113.000000</td>\n",
       "      <td>1.000000</td>\n",
       "      <td>8.600000</td>\n",
       "      <td>0.000000</td>\n",
       "      <td>0.500000</td>\n",
       "      <td>0.000000</td>\n",
       "      <td>0.000000</td>\n",
       "      <td>1.000000</td>\n",
       "      <td>15.400000</td>\n",
       "      <td>2.500000</td>\n",
       "      <td>0.000000</td>\n",
       "      <td>46.000000</td>\n",
       "    </tr>\n",
       "    <tr>\n",
       "      <th>50%</th>\n",
       "      <td>2.000000</td>\n",
       "      <td>1.000000</td>\n",
       "      <td>1.880000</td>\n",
       "      <td>1.000000</td>\n",
       "      <td>161.000000</td>\n",
       "      <td>162.000000</td>\n",
       "      <td>1.000000</td>\n",
       "      <td>12.800000</td>\n",
       "      <td>1.000000</td>\n",
       "      <td>0.500000</td>\n",
       "      <td>2.650000</td>\n",
       "      <td>0.000000</td>\n",
       "      <td>1.000000</td>\n",
       "      <td>20.300000</td>\n",
       "      <td>2.500000</td>\n",
       "      <td>0.000000</td>\n",
       "      <td>87.000000</td>\n",
       "    </tr>\n",
       "    <tr>\n",
       "      <th>75%</th>\n",
       "      <td>2.000000</td>\n",
       "      <td>2.000000</td>\n",
       "      <td>3.700000</td>\n",
       "      <td>1.000000</td>\n",
       "      <td>234.000000</td>\n",
       "      <td>234.000000</td>\n",
       "      <td>1.000000</td>\n",
       "      <td>21.900000</td>\n",
       "      <td>2.500000</td>\n",
       "      <td>0.500000</td>\n",
       "      <td>4.200000</td>\n",
       "      <td>0.000000</td>\n",
       "      <td>1.000000</td>\n",
       "      <td>30.100000</td>\n",
       "      <td>2.500000</td>\n",
       "      <td>0.000000</td>\n",
       "      <td>117.000000</td>\n",
       "    </tr>\n",
       "    <tr>\n",
       "      <th>max</th>\n",
       "      <td>2.000000</td>\n",
       "      <td>6.000000</td>\n",
       "      <td>62359.520000</td>\n",
       "      <td>99.000000</td>\n",
       "      <td>265.000000</td>\n",
       "      <td>265.000000</td>\n",
       "      <td>4.000000</td>\n",
       "      <td>656.800000</td>\n",
       "      <td>11.250000</td>\n",
       "      <td>53.160000</td>\n",
       "      <td>211.500000</td>\n",
       "      <td>70.000000</td>\n",
       "      <td>1.000000</td>\n",
       "      <td>667.100000</td>\n",
       "      <td>2.500000</td>\n",
       "      <td>1.250000</td>\n",
       "      <td>155.000000</td>\n",
       "    </tr>\n",
       "  </tbody>\n",
       "</table>\n",
       "</div>"
      ],
      "text/plain": [
       "            VendorID  passenger_count  trip_distance     RatecodeID  \\\n",
       "count  552112.000000    538095.000000  548596.000000  538095.000000   \n",
       "mean        1.734070         1.411046       3.916389       1.564367   \n",
       "std         0.441827         0.935811      87.337457       6.825743   \n",
       "min         1.000000         0.000000       0.000000       1.000000   \n",
       "25%         1.000000         1.000000       1.100000       1.000000   \n",
       "50%         2.000000         1.000000       1.880000       1.000000   \n",
       "75%         2.000000         2.000000       3.700000       1.000000   \n",
       "max         2.000000         6.000000   62359.520000      99.000000   \n",
       "\n",
       "        PULocationID   DOLocationID   payment_type    fare_amount  \\\n",
       "count  552112.000000  552112.000000  552112.000000  552112.000000   \n",
       "mean      165.040202     162.864739       1.225943      19.474130   \n",
       "std        64.376412      70.796425       0.556279      19.256922   \n",
       "min         1.000000       1.000000       0.000000    -497.900000   \n",
       "25%       132.000000     113.000000       1.000000       8.600000   \n",
       "50%       161.000000     162.000000       1.000000      12.800000   \n",
       "75%       234.000000     234.000000       1.000000      21.900000   \n",
       "max       265.000000     265.000000       4.000000     656.800000   \n",
       "\n",
       "               extra        mta_tax     tip_amount   tolls_amount  \\\n",
       "count  552112.000000  552112.000000  552112.000000  552112.000000   \n",
       "mean        1.573554       0.486728       3.362375       0.600516   \n",
       "std         1.838636       0.126350       4.026210       2.172664   \n",
       "min        -7.500000      -0.500000     -33.930000     -34.050000   \n",
       "25%         0.000000       0.500000       0.000000       0.000000   \n",
       "50%         1.000000       0.500000       2.650000       0.000000   \n",
       "75%         2.500000       0.500000       4.200000       0.000000   \n",
       "max        11.250000      53.160000     211.500000      70.000000   \n",
       "\n",
       "       improvement_surcharge   total_amount  congestion_surcharge  \\\n",
       "count          552112.000000  552112.000000         538095.000000   \n",
       "mean                0.980102      28.229555              2.228291   \n",
       "std                 0.191263      23.741080              0.832104   \n",
       "min                -1.000000    -400.770000             -2.500000   \n",
       "25%                 1.000000      15.400000              2.500000   \n",
       "50%                 1.000000      20.300000              2.500000   \n",
       "75%                 1.000000      30.100000              2.500000   \n",
       "max                 1.000000     667.100000              2.500000   \n",
       "\n",
       "         airport_fee           hour  \n",
       "count  538095.000000  552112.000000  \n",
       "mean        0.130955      82.905617  \n",
       "std         0.388780      43.409300  \n",
       "min        -1.250000       0.000000  \n",
       "25%         0.000000      46.000000  \n",
       "50%         0.000000      87.000000  \n",
       "75%         0.000000     117.000000  \n",
       "max         1.250000     155.000000  "
      ]
     },
     "execution_count": 5,
     "metadata": {},
     "output_type": "execute_result"
    }
   ],
   "source": [
    "df.describe()"
   ]
  },
  {
   "cell_type": "code",
   "execution_count": 6,
   "metadata": {},
   "outputs": [
    {
     "name": "stderr",
     "output_type": "stream",
     "text": [
      "/tmp/ipykernel_10095/2305078076.py:13: UserWarning: Boolean Series key will be reindexed to match DataFrame index.\n",
      "  df = df[f]\n"
     ]
    }
   ],
   "source": [
    "obviously_bad_data_filters = [\n",
    "\n",
    "    df.fare_amount > 0,         # fare_amount in US Dollars\n",
    "    df.trip_distance <= 100,    # trip_distance in miles\n",
    "    df.trip_distance > 0\n",
    "\n",
    "    # TODO: add some logic to filter out what you decide is bad data!\n",
    "    # TIP: Don't spend too much time on this step for this project though, it practice it is a never-ending process.\n",
    "\n",
    "]\n",
    "\n",
    "for f in obviously_bad_data_filters:\n",
    "    df = df[f]"
   ]
  },
  {
   "cell_type": "code",
   "execution_count": null,
   "metadata": {},
   "outputs": [],
   "source": [
    "df.describe()"
   ]
  },
  {
   "cell_type": "code",
   "execution_count": 7,
   "metadata": {},
   "outputs": [
    {
     "data": {
      "image/png": "[encoded data removed]",
      "text/plain": [
       "<Figure size 600x600 with 1 Axes>"
      ]
     },
     "metadata": {},
     "output_type": "display_data"
    }
   ],
   "source": [
    "fig,ax = plt.subplots(1,1, figsize=(6,6))\n",
    "ax.scatter(df.trip_distance, df.fare_amount, color=GREEN, alpha=0.3)\n",
    "ax.set_xlabel(\"Trip Distance\")\n",
    "ax.set_ylabel(\"Fare\");"
   ]
  },
  {
   "attachments": {},
   "cell_type": "markdown",
   "metadata": {},
   "source": [
    "## Task 2: Write a flow\n",
    "\n",
    "In this task, you will deploy a workflow to Argo Workflows. The following flow is mostly written for you, minus a few TODO items.\n",
    "\n",
    "Notice the use of the `@trigger` flow-level decorator.\n",
    "In this flow, this is telling Argo to listen for events named `s3`, and to trigger a run of the flow when the S3 event is emitted. \n",
    "The S3 event your sandbox is listening for are the updates to the `latest.parquet` file mentioned in the comments in [Task 1](#task-1-eda). "
   ]
  },
  {
   "cell_type": "code",
   "execution_count": 8,
   "metadata": {},
   "outputs": [
    {
     "name": "stdout",
     "output_type": "stream",
     "text": [
      "Overwriting ../flows/cloud/event_triggered_linear_regression.py\n"
     ]
    }
   ],
   "source": [
    "%%writefile ../flows/cloud/event_triggered_linear_regression.py\n",
    "from metaflow import FlowSpec, step, card, conda_base, current, Parameter, Flow, trigger\n",
    "from metaflow.cards import Markdown, Table, Image, Artifact\n",
    "\n",
    "URL = \"https://outerbounds-datasets.s3.us-west-2.amazonaws.com/taxi/latest.parquet\"\n",
    "DATETIME_FORMAT = '%Y-%m-%d %H:%M:%S'\n",
    "\n",
    "@trigger(events=['s3'])\n",
    "@conda_base(libraries={'pandas': '1.4.2', 'pyarrow': '11.0.0', 'numpy': '1.21.2', 'scikit-learn': '1.1.2'})\n",
    "class TaxiFarePrediction(FlowSpec):\n",
    "\n",
    "    data_url = Parameter(\"data_url\", default=URL)\n",
    "\n",
    "    def transform_features(self, df):\n",
    "\n",
    "        # TODO: \n",
    "            # Try to complete tasks 2 and 3 with this function doing nothing like it currently is.\n",
    "            # Understand what is happening.\n",
    "            # Revisit task 1 and think about what might go in this function.\n",
    "        obviously_bad_data_filters = [\n",
    "            df.fare_amount > 0,         # fare_amount in US Dollars\n",
    "            df.trip_distance <= 100,    # trip_distance in miles\n",
    "            df.trip_distance > 0,\n",
    "            df.payment_type <= 2,\n",
    "            df.passenger_count > 0,\n",
    "            df.airport_fee > 0,\n",
    "            df.total_amount > 0\n",
    "        ]\n",
    "\n",
    "        for f in obviously_bad_data_filters:\n",
    "            df = df[f] \n",
    "        return df\n",
    "\n",
    "    @step\n",
    "    def start(self):\n",
    "\n",
    "        import pandas as pd\n",
    "        from sklearn.model_selection import train_test_split\n",
    "\n",
    "        self.df = self.transform_features(pd.read_parquet(self.data_url))\n",
    "\n",
    "        # NOTE: we are split into training and validation set in the validation step which uses cross_val_score.\n",
    "        # This is a simple/naive way to do this, and is meant to keep this example simple, to focus learning on deploying Metaflow flows.\n",
    "        # In practice, you want split time series data in more sophisticated ways and run backtests. \n",
    "        self.X = self.df[\"trip_distance\"].values.reshape(-1, 1)\n",
    "        self.y = self.df[\"total_amount\"].values\n",
    "        self.next(self.linear_model)\n",
    "\n",
    "    @step\n",
    "    def linear_model(self):\n",
    "        \"Fit a single variable, linear model to the data.\"\n",
    "        from sklearn.linear_model import LinearRegression\n",
    "\n",
    "        # TODO: Play around with the model if you are feeling it.\n",
    "        self.model = LinearRegression()\n",
    "\n",
    "        self.next(self.validate)\n",
    "\n",
    "    def gather_sibling_flow_run_results(self):\n",
    "\n",
    "        # storage to populate and feed to a Table in a Metaflow card\n",
    "        rows = []\n",
    "\n",
    "        # loop through runs of this flow \n",
    "        for run in Flow(self.__class__.__name__):\n",
    "            if run.id != current.run_id:\n",
    "                if run.successful:\n",
    "                    icon = \"✅\" \n",
    "                    msg = \"OK\"\n",
    "                    score = str(run.data.scores.mean())\n",
    "                else:\n",
    "                    icon = \"❌\"\n",
    "                    msg = \"Error\"\n",
    "                    score = \"NA\"\n",
    "                    for step in run:\n",
    "                        for task in step:\n",
    "                            if not task.successful:\n",
    "                                msg = task.stderr\n",
    "                row = [Markdown(icon), Artifact(run.id), Artifact(run.created_at.strftime(DATETIME_FORMAT)), Artifact(score), Markdown(msg)]\n",
    "                rows.append(row)\n",
    "            else:\n",
    "                rows.append([Markdown(\"✅\"), Artifact(run.id), Artifact(run.created_at.strftime(DATETIME_FORMAT)), Artifact(str(self.scores.mean())), Markdown(\"This run...\")])\n",
    "        return rows\n",
    "                \n",
    "    \n",
    "    @card(type=\"corise\")\n",
    "    @step\n",
    "    def validate(self):\n",
    "        from sklearn.model_selection import cross_val_score\n",
    "        self.scores = cross_val_score(self.model, self.X, self.y, cv=5)\n",
    "        current.card.append(Markdown(\"# Taxi Fare Prediction Results\"))\n",
    "        current.card.append(Table(self.gather_sibling_flow_run_results(), headers=[\"Pass/fail\", \"Run ID\", \"Created At\", \"R^2 score\", \"Stderr\"]))\n",
    "        self.next(self.end)\n",
    "\n",
    "    @step\n",
    "    def end(self):\n",
    "        print(\"Success!\")\n",
    "\n",
    "\n",
    "if __name__ == \"__main__\":\n",
    "    TaxiFarePrediction()"
   ]
  },
  {
   "attachments": {},
   "cell_type": "markdown",
   "metadata": {},
   "source": [
    "### Run the Flow"
   ]
  },
  {
   "cell_type": "code",
   "execution_count": 9,
   "metadata": {},
   "outputs": [
    {
     "name": "stdout",
     "output_type": "stream",
     "text": [
      "\u001b[35m\u001b[1mMetaflow 2.9.1+ob(v1)\u001b[0m\u001b[35m\u001b[22m executing \u001b[0m\u001b[31m\u001b[1mTaxiFarePrediction\u001b[0m\u001b[35m\u001b[22m\u001b[0m\u001b[35m\u001b[22m for \u001b[0m\u001b[31m\u001b[1muser:sandbox\u001b[0m\u001b[35m\u001b[22m\u001b[K\u001b[0m\u001b[35m\u001b[22m\u001b[0m\n",
      "\u001b[35m\u001b[22mValidating your flow...\u001b[K\u001b[0m\u001b[35m\u001b[22m\u001b[0m\n",
      "\u001b[32m\u001b[1m    The graph looks good!\u001b[K\u001b[0m\u001b[32m\u001b[1m\u001b[0m\n",
      "\u001b[35m\u001b[22mRunning pylint...\u001b[K\u001b[0m\u001b[35m\u001b[22m\u001b[0m\n",
      "\u001b[32m\u001b[1m    Pylint is happy!\u001b[K\u001b[0m\u001b[32m\u001b[1m\u001b[0m\n",
      "\u001b[35m2023-05-16 18:22:08.888 \u001b[0m\u001b[22mCreating local datastore in current directory (/home/workspace/workspaces/full-stack-ml-metaflow-corise-week-3/project/.metaflow)\u001b[0m\n",
      "\u001b[22mBootstrapping conda environment...(this could take a few minutes)\u001b[K\u001b[0m\u001b[22m\u001b[0m\n",
      "\u001b[35m2023-05-16 18:23:27.638 \u001b[0m\u001b[1mWorkflow starting (run-id 20), see it in the UI at https://ui-pw-1086487655.outerbounds.dev/TaxiFarePrediction/20\u001b[0m\n",
      "\u001b[35m2023-05-16 18:23:28.539 \u001b[0m\u001b[32m[20/start/73 (pid 10741)] \u001b[0m\u001b[1mTask is starting.\u001b[0m\n",
      "\u001b[35m2023-05-16 18:23:33.621 \u001b[0m\u001b[32m[20/start/73 (pid 10741)] \u001b[0m\u001b[1mTask finished successfully.\u001b[0m\n",
      "\u001b[35m2023-05-16 18:23:34.563 \u001b[0m\u001b[32m[20/linear_model/74 (pid 10839)] \u001b[0m\u001b[1mTask is starting.\u001b[0m\n",
      "\u001b[35m2023-05-16 18:23:37.277 \u001b[0m\u001b[32m[20/linear_model/74 (pid 10839)] \u001b[0m\u001b[1mTask finished successfully.\u001b[0m\n",
      "\u001b[35m2023-05-16 18:23:38.221 \u001b[0m\u001b[32m[20/validate/75 (pid 10893)] \u001b[0m\u001b[1mTask is starting.\u001b[0m\n",
      "\u001b[35m2023-05-16 18:23:42.708 \u001b[0m\u001b[32m[20/validate/75 (pid 10893)] \u001b[0m\u001b[1mTask finished successfully.\u001b[0m\n",
      "\u001b[35m2023-05-16 18:23:43.609 \u001b[0m\u001b[32m[20/end/76 (pid 10959)] \u001b[0m\u001b[1mTask is starting.\u001b[0m\n",
      "\u001b[35m2023-05-16 18:23:44.546 \u001b[0m\u001b[32m[20/end/76 (pid 10959)] \u001b[0m\u001b[22mSuccess!\u001b[0m\n",
      "\u001b[35m2023-05-16 18:23:45.334 \u001b[0m\u001b[32m[20/end/76 (pid 10959)] \u001b[0m\u001b[1mTask finished successfully.\u001b[0m\n",
      "\u001b[35m2023-05-16 18:23:45.446 \u001b[0m\u001b[1mDone! See the run in the UI at https://ui-pw-1086487655.outerbounds.dev/TaxiFarePrediction/20\u001b[0m\n"
     ]
    }
   ],
   "source": [
    "! python ../flows/cloud/event_triggered_linear_regression.py --environment=conda run"
   ]
  },
  {
   "attachments": {},
   "cell_type": "markdown",
   "metadata": {},
   "source": [
    "## Task 3: Promote to Production"
   ]
  },
  {
   "attachments": {},
   "cell_type": "markdown",
   "metadata": {},
   "source": [
    "Once the workflow in the previous section is running and logging results as you like, it is time to deploy this workflow to production, so it can run in the cloud without manually triggering it. \n",
    "\n",
    "You can read more in [Metaflow's Argo documentation](https://docs.metaflow.org/production/scheduling-metaflow-flows/scheduling-with-argo-workflows)."
   ]
  },
  {
   "attachments": {},
   "cell_type": "markdown",
   "metadata": {},
   "source": [
    "### Deploying the workflow to Argo"
   ]
  },
  {
   "cell_type": "code",
   "execution_count": 10,
   "metadata": {},
   "outputs": [
    {
     "name": "stdout",
     "output_type": "stream",
     "text": [
      "\u001b[35m\u001b[1mMetaflow 2.9.1+ob(v1)\u001b[0m\u001b[35m\u001b[22m executing \u001b[0m\u001b[31m\u001b[1mTaxiFarePrediction\u001b[0m\u001b[35m\u001b[22m\u001b[0m\u001b[35m\u001b[22m for \u001b[0m\u001b[31m\u001b[1muser:sandbox\u001b[0m\u001b[35m\u001b[22m\u001b[K\u001b[0m\u001b[35m\u001b[22m\u001b[0m\n",
      "\u001b[35m\u001b[22mValidating your flow...\u001b[K\u001b[0m\u001b[35m\u001b[22m\u001b[0m\n",
      "\u001b[32m\u001b[1m    The graph looks good!\u001b[K\u001b[0m\u001b[32m\u001b[1m\u001b[0m\n",
      "\u001b[35m\u001b[22mRunning pylint...\u001b[K\u001b[0m\u001b[35m\u001b[22m\u001b[0m\n",
      "\u001b[32m\u001b[1m    Pylint is happy!\u001b[K\u001b[0m\u001b[32m\u001b[1m\u001b[0m\n",
      "\u001b[1mDeploying \u001b[0m\u001b[31m\u001b[1mtaxifareprediction\u001b[0m\u001b[1m to Argo Workflows...\u001b[K\u001b[0m\u001b[1m\u001b[0m\n",
      "\u001b[22mIt seems this is the first time you are deploying \u001b[0m\u001b[31m\u001b[1mtaxifareprediction\u001b[0m\u001b[22m to Argo Workflows.\u001b[K\u001b[0m\u001b[22m\u001b[0m\n",
      "\u001b[22m\u001b[K\u001b[0m\u001b[22m\u001b[0m\n",
      "\u001b[22mA new production token generated.\u001b[K\u001b[0m\u001b[22m\u001b[0m\n",
      "\u001b[22m\u001b[K\u001b[0m\u001b[22m\u001b[0m\n",
      "\u001b[22mThe namespace of this production flow is\u001b[K\u001b[0m\u001b[22m\u001b[0m\n",
      "\u001b[32m\u001b[22m    production:taxifareprediction-0-ouyj\u001b[K\u001b[0m\u001b[32m\u001b[22m\u001b[0m\n",
      "\u001b[22mTo analyze results of this production flow add this line in your notebooks:\u001b[K\u001b[0m\u001b[22m\u001b[0m\n",
      "\u001b[32m\u001b[22m    namespace(\"production:taxifareprediction-0-ouyj\")\u001b[K\u001b[0m\u001b[32m\u001b[22m\u001b[0m\n",
      "\u001b[22mIf you want to authorize other people to deploy new versions of this flow to Argo Workflows, they need to call\u001b[K\u001b[0m\u001b[22m\u001b[0m\n",
      "\u001b[32m\u001b[22m    argo-workflows create --authorize taxifareprediction-0-ouyj\u001b[K\u001b[0m\u001b[32m\u001b[22m\u001b[0m\n",
      "\u001b[22mwhen deploying this flow to Argo Workflows for the first time.\u001b[K\u001b[0m\u001b[22m\u001b[0m\n",
      "\u001b[22mSee \"Organizing Results\" at https://docs.metaflow.org/ for more information about production tokens.\u001b[K\u001b[0m\u001b[22m\u001b[0m\n",
      "\u001b[22m\u001b[K\u001b[0m\u001b[22m\u001b[0m\n",
      "\u001b[22mBootstrapping conda environment...(this could take a few minutes)\u001b[K\u001b[0m\u001b[22m\u001b[0m\n",
      "\u001b[1mWorkflow \u001b[0m\u001b[31m\u001b[1mtaxifareprediction\u001b[0m\u001b[1m for flow \u001b[0m\u001b[31m\u001b[1mTaxiFarePrediction\u001b[0m\u001b[1m pushed to Argo Workflows successfully.\n",
      "\u001b[K\u001b[0m\u001b[1m\u001b[0m\n",
      "\u001b[22mNote that the flow was deployed with a modified name due to Kubernetes naming conventions\n",
      "on Argo Workflows. The original flow name is stored in the workflow annotation.\n",
      "\u001b[K\u001b[0m\u001b[22m\u001b[0m\n",
      "\u001b[1mWhat will trigger execution of the workflow:\u001b[K\u001b[0m\u001b[1m\u001b[0m\n",
      "\u001b[22m    This workflow triggers automatically when the upstream \u001b[0m\u001b[31m\u001b[1ms3\u001b[0m\u001b[22m event is/are published.\u001b[K\u001b[0m\u001b[22m\u001b[0m\n"
     ]
    }
   ],
   "source": [
    "# NOTE: If you run from this from the terminal you may need to adjust the path to the flow file, depending on where you saved it - what comes after %%writefile? \n",
    "! python ../flows/cloud/event_triggered_linear_regression.py --environment=conda --with retry argo-workflows create "
   ]
  },
  {
   "attachments": {},
   "cell_type": "markdown",
   "metadata": {},
   "source": [
    "Now, go to the Argo deployment attached to your sandbox by finding your ID from the URL in your browser.\n",
    "\n",
    "Your sandbox has a unique ID, visible in the URL with this pattern.\n",
    "```\n",
    "https://vs-<YOUR ID>.outerbounds.dev/<DELETE EVERYTHING AFTER THIS>\n",
    "```\n",
    "\n",
    "Remove the `vs` part in front, and everything after `.dev`, then navigate to your sandboxes Argo deployment at:\n",
    "```\n",
    "https://argo-<YOUR ID>.outerbounds.dev/\n",
    "```\n",
    "\n",
    "Navigating to the \"Workflow Templates\" section of the Argo UI, you should find your workflow has been deployed:\n",
    "\n",
    "<img src=\"../img/argo-workflow-template.png\" width=\"1200px\">"
   ]
  },
  {
   "attachments": {},
   "cell_type": "markdown",
   "metadata": {},
   "source": [
    "### Manually trigger the workflow"
   ]
  },
  {
   "cell_type": "code",
   "execution_count": 11,
   "metadata": {},
   "outputs": [
    {
     "name": "stdout",
     "output_type": "stream",
     "text": [
      "\u001b[35m\u001b[1mMetaflow 2.9.1+ob(v1)\u001b[0m\u001b[35m\u001b[22m executing \u001b[0m\u001b[31m\u001b[1mTaxiFarePrediction\u001b[0m\u001b[35m\u001b[22m\u001b[0m\u001b[35m\u001b[22m for \u001b[0m\u001b[31m\u001b[1muser:sandbox\u001b[0m\u001b[35m\u001b[22m\u001b[K\u001b[0m\u001b[35m\u001b[22m\u001b[0m\n",
      "\u001b[35m\u001b[22mValidating your flow...\u001b[K\u001b[0m\u001b[35m\u001b[22m\u001b[0m\n",
      "\u001b[32m\u001b[1m    The graph looks good!\u001b[K\u001b[0m\u001b[32m\u001b[1m\u001b[0m\n",
      "\u001b[35m\u001b[22mRunning pylint...\u001b[K\u001b[0m\u001b[35m\u001b[22m\u001b[0m\n",
      "\u001b[32m\u001b[1m    Pylint is happy!\u001b[K\u001b[0m\u001b[32m\u001b[1m\u001b[0m\n",
      "\u001b[1mWorkflow \u001b[0m\u001b[31m\u001b[1mtaxifareprediction\u001b[0m\u001b[1m triggered on Argo Workflows (run-id \u001b[0m\u001b[31m\u001b[1margo-taxifareprediction-mrgbv\u001b[0m\u001b[1m).\u001b[K\u001b[0m\u001b[1m\u001b[0m\n",
      "\u001b[1mSee the run in the UI at https://ui-pw-1086487655.outerbounds.dev/TaxiFarePrediction/argo-taxifareprediction-mrgbv\u001b[K\u001b[0m\u001b[1m\u001b[0m\n"
     ]
    }
   ],
   "source": [
    "! python ../flows/cloud/event_triggered_linear_regression.py --environment=conda argo-workflows trigger"
   ]
  },
  {
   "attachments": {},
   "cell_type": "markdown",
   "metadata": {},
   "source": [
    "After triggering the worfklow, return to your Argo dashboard and navigate to the `Workflows` section to see your flow executing:\n",
    "\n",
    "<img src=\"../img/argo-workflow.png\" width=\"1200px\">"
   ]
  },
  {
   "attachments": {},
   "cell_type": "markdown",
   "metadata": {},
   "source": [
    "### How is the flow \"automatically\" triggered? \n",
    "\n",
    "In the previous section, you manually triggered the deployed flow using a Metaflow command. \n",
    "So how will it run without that manual trigger in production? \n",
    "\n",
    "1. There is a script running in the background in your sandbox that looks at the `latest.parquet` file in S3 and emits an `S3` when it has changed since the last `TaxiFarePrediction` flow run was created. As mentioned earlier, the file is being updated every hour, time shifting the [NYC taxi data stream from January 2023](https://d37ci6vzurychx.cloudfront.net/trip-data/yellow_tripdata_2023-01.parquet).\n",
    "2. When the events are emitted, the same thing happens as the command you ran in [the previous section](#manually-trigger-the-workflow)."
   ]
  },
  {
   "attachments": {},
   "cell_type": "markdown",
   "metadata": {},
   "source": [
    "## Bonus Task 4: Handle Failures! \n"
   ]
  },
  {
   "attachments": {},
   "cell_type": "markdown",
   "metadata": {},
   "source": [
    "If you deployed the flow in the previous task, excellent job! \n",
    "Now it is time to harden the workflow so it is robust to the vagaries of real world data.\n",
    "\n",
    "Specifically, at some point we will intentionally corrupt some of the training data, to simulate a common real world occurence.\n",
    "\n",
    "Can you,\n",
    "1. Figure out what is happening in the new data that is causing an error?\n",
    "2. Add a few lines of code to your `TaxiFarePrediction` flow's `start` step that will make your flow robust to this kind of data quality issue?\n",
    "3. How would you refactor the `TaxiFarePrediction` to use the decorators you learned in this week's lesson, such as `@catch`, `@retry`, etc.? \n",
    "\n",
    "(Optional) TODO: Write a report of your findings to these questions.\n",
    "(Optional) TODO: Update your production deployment of `TaxiFarePrediction` with the new approach(es)."
   ]
  }
 ],
 "metadata": {
  "kernelspec": {
   "display_name": "full-stack-metaflow",
   "language": "python",
   "name": "python3"
  },
  "language_info": {
   "codemirror_mode": {
    "name": "ipython",
    "version": 3
   },
   "file_extension": ".py",
   "mimetype": "text/x-python",
   "name": "python",
   "nbconvert_exporter": "python",
   "pygments_lexer": "ipython3",
   "version": "3.8.15"
  },
  "orig_nbformat": 4
 },
 "nbformat": 4,
 "nbformat_minor": 2
}
